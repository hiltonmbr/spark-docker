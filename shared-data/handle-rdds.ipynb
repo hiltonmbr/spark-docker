{
 "cells": [
  {
   "cell_type": "markdown",
   "metadata": {},
   "source": [
    "## Using Spark Cluster with shared data in Docker\n",
    "\n",
    "### Handle RDDs\n",
    "\n",
    "This is a simple example of using Spark in a Docker container. Make sure you execute this notebook in code-server and not in a local notebook."
   ]
  },
  {
   "cell_type": "code",
   "execution_count": null,
   "metadata": {},
   "outputs": [],
   "source": [
    "!pip install pyspark==3.5.3 pandas"
   ]
  },
  {
   "cell_type": "markdown",
   "metadata": {},
   "source": [
    "#### Download csv file to local directory (shared with spark)"
   ]
  },
  {
   "cell_type": "code",
   "execution_count": 6,
   "metadata": {},
   "outputs": [],
   "source": [
    "import urllib.request\n",
    "import zipfile\n",
    "from os import remove\n",
    "\n",
    "url = 'https://www.kaggle.com/api/v1/datasets/download/chaitanyahivlekar/large-movie-dataset'\n",
    "urllib.request.urlretrieve(url,'movies.zip')\n",
    "\n",
    "with zipfile.ZipFile('movies.zip', 'r') as zip_ref:\n",
    "    zip_ref.extractall('./')\n",
    "\n",
    "remove('movies.zip')"
   ]
  },
  {
   "cell_type": "markdown",
   "metadata": {},
   "source": [
    "#### Connect to Spark Cluster and create Spark Session"
   ]
  },
  {
   "cell_type": "code",
   "execution_count": 7,
   "metadata": {},
   "outputs": [
    {
     "name": "stderr",
     "output_type": "stream",
     "text": [
      "Setting default log level to \"WARN\".\n",
      "To adjust logging level use sc.setLogLevel(newLevel). For SparkR, use setLogLevel(newLevel).\n",
      "25/04/16 18:50:59 WARN NativeCodeLoader: Unable to load native-hadoop library for your platform... using builtin-java classes where applicable\n"
     ]
    }
   ],
   "source": [
    "from pyspark import SparkConf, SparkContext\n",
    "\n",
    "conf = SparkConf().setAppName(\"MyApp\").setMaster(\"spark://spark-master:7077\")\n",
    "sc = SparkContext(conf=conf)"
   ]
  },
  {
   "cell_type": "markdown",
   "metadata": {},
   "source": [
    "#### Create RDD\n",
    "\n",
    "To create a RDD from text file as csv, we can use `.textFile()` method from spark context."
   ]
  },
  {
   "cell_type": "code",
   "execution_count": 8,
   "metadata": {},
   "outputs": [],
   "source": [
    "rdd = sc.textFile(\"movies_dataset.csv\")\n"
   ]
  },
  {
   "cell_type": "markdown",
   "metadata": {},
   "source": [
    "##### Reading data from spark cluster\n",
    "\n",
    "Let's read the firsts 10 rows of RDD using `.take()` method any RDD object. The output is a list of strings, each one representing a line of the file."
   ]
  },
  {
   "cell_type": "code",
   "execution_count": 9,
   "metadata": {},
   "outputs": [
    {
     "name": "stdout",
     "output_type": "stream",
     "text": [
      "First few lines of the RDD:\n"
     ]
    },
    {
     "name": "stderr",
     "output_type": "stream",
     "text": [
      "                                                                                \r"
     ]
    },
    {
     "data": {
      "text/plain": [
       "[',User_Id,Movie_Name,Rating,Genre',\n",
       " '0,1,Pulp Fiction (1994),5.0,Comedy|Crime|Drama|Thriller',\n",
       " '1,1,Three Colors: Red (Trois couleurs: Rouge) (1994),3.5,Drama',\n",
       " '2,1,Three Colors: Blue (Trois couleurs: Bleu) (1993),5.0,Drama',\n",
       " '3,1,Underground (1995),5.0,Comedy|Drama|War',\n",
       " \"4,1,Singin' in the Rain (1952),3.5,Comedy|Musical|Romance\",\n",
       " '5,1,Dirty Dancing (1987),4.0,Drama|Musical|Romance',\n",
       " '6,1,Delicatessen (1991),3.5,Comedy|Drama|Romance',\n",
       " '7,1,Ran (1985),3.5,Drama|War',\n",
       " '8,1,\"Seventh Seal, The (Sjunde inseglet, Det) (1957)\",5.0,Drama']"
      ]
     },
     "execution_count": 9,
     "metadata": {},
     "output_type": "execute_result"
    }
   ],
   "source": [
    "print(\"First few lines of the RDD:\")\n",
    "rdd.take(10)"
   ]
  },
  {
   "cell_type": "markdown",
   "metadata": {},
   "source": [
    "In the next step, we will count the number of objects in the dataset using the `count()` method."
   ]
  },
  {
   "cell_type": "code",
   "execution_count": 10,
   "metadata": {},
   "outputs": [
    {
     "name": "stdout",
     "output_type": "stream",
     "text": [
      "Count total items\n"
     ]
    },
    {
     "name": "stderr",
     "output_type": "stream",
     "text": [
      "                                                                                \r"
     ]
    },
    {
     "data": {
      "text/plain": [
       "25000096"
      ]
     },
     "execution_count": 10,
     "metadata": {},
     "output_type": "execute_result"
    }
   ],
   "source": [
    "print(\"Count total items\")\n",
    "rdd.count()"
   ]
  },
  {
   "cell_type": "markdown",
   "metadata": {},
   "source": [
    "##### Filter data\n",
    "\n",
    "Here, we filter the data to first item (`.first()` method), which represent the first row of the CSV file."
   ]
  },
  {
   "cell_type": "code",
   "execution_count": 11,
   "metadata": {},
   "outputs": [
    {
     "name": "stdout",
     "output_type": "stream",
     "text": [
      ",User_Id,Movie_Name,Rating,Genre\n"
     ]
    }
   ],
   "source": [
    "# header\n",
    "header = rdd.first()\n",
    "print(header)"
   ]
  },
  {
   "cell_type": "markdown",
   "metadata": {},
   "source": [
    "Using header variable and `.filter()` method, we can filter data for all rows different than the header."
   ]
  },
  {
   "cell_type": "code",
   "execution_count": 12,
   "metadata": {},
   "outputs": [
    {
     "data": {
      "text/plain": [
       "['0,1,Pulp Fiction (1994),5.0,Comedy|Crime|Drama|Thriller',\n",
       " '1,1,Three Colors: Red (Trois couleurs: Rouge) (1994),3.5,Drama',\n",
       " '2,1,Three Colors: Blue (Trois couleurs: Bleu) (1993),5.0,Drama',\n",
       " '3,1,Underground (1995),5.0,Comedy|Drama|War',\n",
       " \"4,1,Singin' in the Rain (1952),3.5,Comedy|Musical|Romance\"]"
      ]
     },
     "execution_count": 12,
     "metadata": {},
     "output_type": "execute_result"
    }
   ],
   "source": [
    "data_rdd = rdd.filter(lambda row: row != header)\n",
    "data_rdd.take(5)"
   ]
  },
  {
   "cell_type": "markdown",
   "metadata": {},
   "source": [
    "Filtering all items with contains \"Comedy\""
   ]
  },
  {
   "cell_type": "code",
   "execution_count": 13,
   "metadata": {},
   "outputs": [
    {
     "data": {
      "text/plain": [
       "['0,1,Pulp Fiction (1994),5.0,Comedy|Crime|Drama|Thriller',\n",
       " '3,1,Underground (1995),5.0,Comedy|Drama|War',\n",
       " \"4,1,Singin' in the Rain (1952),3.5,Comedy|Musical|Romance\",\n",
       " '6,1,Delicatessen (1991),3.5,Comedy|Drama|Romance',\n",
       " '12,1,Back to the Future Part II (1989),2.5,Adventure|Comedy|Sci-Fi',\n",
       " '13,1,Back to the Future Part III (1990),2.5,Adventure|Comedy|Sci-Fi|Western',\n",
       " '20,1,\"Black Cat, White Cat (Crna macka, beli macor) (1998)\",4.5,Comedy|Romance',\n",
       " '21,1,\"Good Morning, Vietnam (1987)\",4.0,Comedy|Drama|War',\n",
       " '22,1,\"Idiots, The (Idioterne) (1998)\",5.0,Comedy|Drama',\n",
       " '29,1,\"Amelie (Fabuleux destin d\\'Amélie Poulain, Le) (2001)\",4.5,Comedy|Romance']"
      ]
     },
     "execution_count": 13,
     "metadata": {},
     "output_type": "execute_result"
    }
   ],
   "source": [
    "data_rdd = data_rdd.filter(lambda row: row.find(\"Comedy\") != -1)\n",
    "data_rdd.take(10)"
   ]
  },
  {
   "cell_type": "markdown",
   "metadata": {},
   "source": [
    "##### Transform data\n",
    "\n",
    "Let's transform the data using `.map()` method together with `lambda` function. We gonna split each string item by comma."
   ]
  },
  {
   "cell_type": "code",
   "execution_count": 14,
   "metadata": {},
   "outputs": [
    {
     "data": {
      "text/plain": [
       "[['0', '1', 'Pulp Fiction (1994)', '5.0', 'Comedy|Crime|Drama|Thriller'],\n",
       " ['3', '1', 'Underground (1995)', '5.0', 'Comedy|Drama|War'],\n",
       " ['4', '1', \"Singin' in the Rain (1952)\", '3.5', 'Comedy|Musical|Romance'],\n",
       " ['6', '1', 'Delicatessen (1991)', '3.5', 'Comedy|Drama|Romance'],\n",
       " ['12',\n",
       "  '1',\n",
       "  'Back to the Future Part II (1989)',\n",
       "  '2.5',\n",
       "  'Adventure|Comedy|Sci-Fi']]"
      ]
     },
     "execution_count": 14,
     "metadata": {},
     "output_type": "execute_result"
    }
   ],
   "source": [
    "data_split_rdd = data_rdd.map(lambda row: row.split(','))\n",
    "data_split_rdd.take(5)"
   ]
  },
  {
   "cell_type": "markdown",
   "metadata": {},
   "source": [
    "Then, we can filter the two first items in each list."
   ]
  },
  {
   "cell_type": "code",
   "execution_count": 15,
   "metadata": {},
   "outputs": [
    {
     "data": {
      "text/plain": [
       "[['1', 'Pulp Fiction (1994)'],\n",
       " ['1', 'Underground (1995)'],\n",
       " ['1', \"Singin' in the Rain (1952)\"],\n",
       " ['1', 'Delicatessen (1991)'],\n",
       " ['1', 'Back to the Future Part II (1989)']]"
      ]
     },
     "execution_count": 15,
     "metadata": {},
     "output_type": "execute_result"
    }
   ],
   "source": [
    "data = data_split_rdd.map(lambda list: list[1:3])\n",
    "data.take(5)"
   ]
  },
  {
   "cell_type": "markdown",
   "metadata": {},
   "source": [
    "Finally, let's collect the first 100 entries in transformed RDD and parse to a pandas data frame."
   ]
  },
  {
   "cell_type": "code",
   "execution_count": 16,
   "metadata": {},
   "outputs": [
    {
     "data": {
      "text/html": [
       "<div>\n",
       "<style scoped>\n",
       "    .dataframe tbody tr th:only-of-type {\n",
       "        vertical-align: middle;\n",
       "    }\n",
       "\n",
       "    .dataframe tbody tr th {\n",
       "        vertical-align: top;\n",
       "    }\n",
       "\n",
       "    .dataframe thead th {\n",
       "        text-align: right;\n",
       "    }\n",
       "</style>\n",
       "<table border=\"1\" class=\"dataframe\">\n",
       "  <thead>\n",
       "    <tr style=\"text-align: right;\">\n",
       "      <th></th>\n",
       "      <th>User_Id</th>\n",
       "      <th>Movie_Name</th>\n",
       "    </tr>\n",
       "  </thead>\n",
       "  <tbody>\n",
       "    <tr>\n",
       "      <th>0</th>\n",
       "      <td>1</td>\n",
       "      <td>Pulp Fiction (1994)</td>\n",
       "    </tr>\n",
       "    <tr>\n",
       "      <th>1</th>\n",
       "      <td>1</td>\n",
       "      <td>Underground (1995)</td>\n",
       "    </tr>\n",
       "    <tr>\n",
       "      <th>2</th>\n",
       "      <td>1</td>\n",
       "      <td>Singin' in the Rain (1952)</td>\n",
       "    </tr>\n",
       "    <tr>\n",
       "      <th>3</th>\n",
       "      <td>1</td>\n",
       "      <td>Delicatessen (1991)</td>\n",
       "    </tr>\n",
       "    <tr>\n",
       "      <th>4</th>\n",
       "      <td>1</td>\n",
       "      <td>Back to the Future Part II (1989)</td>\n",
       "    </tr>\n",
       "    <tr>\n",
       "      <th>...</th>\n",
       "      <td>...</td>\n",
       "      <td>...</td>\n",
       "    </tr>\n",
       "    <tr>\n",
       "      <th>95</th>\n",
       "      <td>3</td>\n",
       "      <td>\"Big Lebowski</td>\n",
       "    </tr>\n",
       "    <tr>\n",
       "      <th>96</th>\n",
       "      <td>3</td>\n",
       "      <td>\"Lock</td>\n",
       "    </tr>\n",
       "    <tr>\n",
       "      <th>97</th>\n",
       "      <td>3</td>\n",
       "      <td>\"Whole Nine Yards</td>\n",
       "    </tr>\n",
       "    <tr>\n",
       "      <th>98</th>\n",
       "      <td>3</td>\n",
       "      <td>Big Momma's House (2000)</td>\n",
       "    </tr>\n",
       "    <tr>\n",
       "      <th>99</th>\n",
       "      <td>3</td>\n",
       "      <td>Chicken Run (2000)</td>\n",
       "    </tr>\n",
       "  </tbody>\n",
       "</table>\n",
       "<p>100 rows × 2 columns</p>\n",
       "</div>"
      ],
      "text/plain": [
       "   User_Id                         Movie_Name\n",
       "0        1                Pulp Fiction (1994)\n",
       "1        1                 Underground (1995)\n",
       "2        1         Singin' in the Rain (1952)\n",
       "3        1                Delicatessen (1991)\n",
       "4        1  Back to the Future Part II (1989)\n",
       "..     ...                                ...\n",
       "95       3                      \"Big Lebowski\n",
       "96       3                              \"Lock\n",
       "97       3                  \"Whole Nine Yards\n",
       "98       3           Big Momma's House (2000)\n",
       "99       3                 Chicken Run (2000)\n",
       "\n",
       "[100 rows x 2 columns]"
      ]
     },
     "execution_count": 16,
     "metadata": {},
     "output_type": "execute_result"
    }
   ],
   "source": [
    "import pandas as pd\n",
    "\n",
    "df = pd.DataFrame(data.take(100), columns=['User_Id', 'Movie_Name'])\n",
    "df"
   ]
  },
  {
   "cell_type": "markdown",
   "metadata": {},
   "source": [
    "##### Stop spark context connection"
   ]
  },
  {
   "cell_type": "code",
   "execution_count": 18,
   "metadata": {},
   "outputs": [],
   "source": [
    "sc.stop()"
   ]
  }
 ],
 "metadata": {
  "kernelspec": {
   "display_name": ".venv",
   "language": "python",
   "name": "python3"
  },
  "language_info": {
   "codemirror_mode": {
    "name": "ipython",
    "version": 3
   },
   "file_extension": ".py",
   "mimetype": "text/x-python",
   "name": "python",
   "nbconvert_exporter": "python",
   "pygments_lexer": "ipython3",
   "version": "3.12.3"
  }
 },
 "nbformat": 4,
 "nbformat_minor": 2
}
