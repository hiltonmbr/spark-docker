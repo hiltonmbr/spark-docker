{
 "cells": [
  {
   "cell_type": "markdown",
   "id": "77af88dd",
   "metadata": {},
   "source": [
    "## Using Spark Cluster with shared data in Docker\n",
    "\n",
    "### Handle Spark DataFrames"
   ]
  },
  {
   "cell_type": "code",
   "execution_count": null,
   "id": "5969aeba",
   "metadata": {},
   "outputs": [],
   "source": [
    "!pip install pyspark==3.5.3 pandas setuptools packaging"
   ]
  },
  {
   "cell_type": "markdown",
   "id": "8fb38c7c",
   "metadata": {},
   "source": [
    "#### Download csv file to local directory (shared with spark)"
   ]
  },
  {
   "cell_type": "code",
   "execution_count": null,
   "id": "add2661a",
   "metadata": {},
   "outputs": [],
   "source": [
    "import urllib.request\n",
    "import zipfile\n",
    "from os import remove\n",
    "\n",
    "url = 'https://www.kaggle.com/api/v1/datasets/download/chaitanyahivlekar/large-movie-dataset'\n",
    "urllib.request.urlretrieve(url,'movies.zip')\n",
    "\n",
    "with zipfile.ZipFile('movies.zip', 'r') as zip_ref:\n",
    "    zip_ref.extractall('./')\n",
    "\n",
    "remove('movies.zip')"
   ]
  },
  {
   "cell_type": "markdown",
   "id": "0f39e4d4",
   "metadata": {},
   "source": [
    "#### Connect to Spark Cluster and create Spark Session"
   ]
  },
  {
   "cell_type": "code",
   "execution_count": null,
   "id": "b10aa2b6",
   "metadata": {},
   "outputs": [],
   "source": [
    "from pyspark.sql import SparkSession\n",
    "\n",
    "spark = SparkSession.builder.appName(\"MyAppSDF\") \\\n",
    "    .master(\"spark://spark-master:7077\") \\\n",
    "    .getOrCreate()  \n",
    "\n"
   ]
  },
  {
   "cell_type": "markdown",
   "id": "a2c28c74",
   "metadata": {},
   "source": [
    "#### Read data\n",
    "##### Create a spark data frame from csv file\n",
    "\n",
    "To create a spark data frame from a csv file, we can use the `read.csv` function. Using `inferSchema=True` allow spark infer correct type for each field. However, it can be slow."
   ]
  },
  {
   "cell_type": "code",
   "execution_count": null,
   "id": "3180e648",
   "metadata": {},
   "outputs": [],
   "source": [
    "sdf = spark.read.csv(\"movies_dataset.csv\", header=True, inferSchema=True)"
   ]
  },
  {
   "cell_type": "markdown",
   "id": "973a796e",
   "metadata": {},
   "source": [
    "To see the schema, use `.printSchema()` method."
   ]
  },
  {
   "cell_type": "code",
   "execution_count": null,
   "id": "b3af9122",
   "metadata": {},
   "outputs": [],
   "source": [
    "sdf.printSchema()"
   ]
  },
  {
   "cell_type": "markdown",
   "id": "66b8a02c",
   "metadata": {},
   "source": [
    "Let's show first rows of spark data frame with method `.show()`"
   ]
  },
  {
   "cell_type": "code",
   "execution_count": null,
   "id": "5949ebba",
   "metadata": {},
   "outputs": [],
   "source": [
    "sdf.show()"
   ]
  },
  {
   "cell_type": "markdown",
   "id": "9bdfb473",
   "metadata": {},
   "source": [
    "Count total of rows."
   ]
  },
  {
   "cell_type": "code",
   "execution_count": null,
   "id": "7ca88944",
   "metadata": {},
   "outputs": [],
   "source": [
    "sdf.count()"
   ]
  },
  {
   "cell_type": "markdown",
   "id": "7ab0b39d",
   "metadata": {},
   "source": [
    "#### Filter data\n"
   ]
  },
  {
   "cell_type": "code",
   "execution_count": null,
   "id": "15920678",
   "metadata": {},
   "outputs": [],
   "source": [
    "from pyspark.sql.functions import col\n",
    "\n",
    "sdf.filter(col(\"Rating\") >= 5 ).show()"
   ]
  },
  {
   "cell_type": "code",
   "execution_count": null,
   "id": "484e2164",
   "metadata": {},
   "outputs": [],
   "source": [
    "\n",
    "\n",
    "sdf.filter( (col(\"Rating\") >= 5) & col('Genre').contains(\"Comedy\") ).show()\n"
   ]
  },
  {
   "cell_type": "code",
   "execution_count": null,
   "id": "927643a1",
   "metadata": {},
   "outputs": [],
   "source": [
    "sdf.filter( (col('Genre').contains(\"Action\")) | col('Genre').contains(\"Comedy\") ).show()"
   ]
  },
  {
   "cell_type": "code",
   "execution_count": null,
   "id": "5c3269d6",
   "metadata": {},
   "outputs": [],
   "source": [
    "sdf_top = sdf.filter( (col(\"Rating\") >= 5) & col('Genre').contains(\"Comedy\") )\n",
    "sdf_top.show()\n"
   ]
  },
  {
   "cell_type": "markdown",
   "id": "eca1ca8f",
   "metadata": {},
   "source": [
    "#### Transform data"
   ]
  },
  {
   "cell_type": "code",
   "execution_count": null,
   "id": "a328b309",
   "metadata": {},
   "outputs": [],
   "source": [
    "from pyspark.sql import functions as sf\n",
    "\n",
    "sdf_top.groupBy(\"Movie_name\").agg(\n",
    "    sf.count(\"*\").alias(\"total_ratings\"),\n",
    ").show()"
   ]
  },
  {
   "cell_type": "code",
   "execution_count": null,
   "id": "36de8456",
   "metadata": {},
   "outputs": [],
   "source": [
    "sdf.filter( sf.col('Genre').contains(\"Comedy\") ). \\\n",
    "    groupBy(\"Movie_name\").agg(\n",
    "        sf.count(\"*\").alias(\"total_ratings\"),\n",
    "        sf.avg(\"Rating\").alias(\"avg_rating\")\n",
    "    ).show()"
   ]
  },
  {
   "cell_type": "code",
   "execution_count": null,
   "id": "72de19bd",
   "metadata": {},
   "outputs": [],
   "source": [
    "sdf.filter( sf.col('Genre').contains(\"Comedy\") ). \\\n",
    "    groupBy(\"Movie_name\").agg(\n",
    "        sf.count(\"*\").alias(\"total_ratings\"),\n",
    "        sf.avg(\"Rating\").alias(\"avg_rating\"),\n",
    "        sf.sum(\"Rating\").alias(\"sum_rating\")\n",
    "    ). \\\n",
    "   orderBy(\"total_ratings\", ascending=False).show()"
   ]
  },
  {
   "cell_type": "code",
   "execution_count": null,
   "id": "762aa6ba",
   "metadata": {},
   "outputs": [],
   "source": [
    "from pyspark.sql import functions as sf\n",
    "\n",
    "df = sdf.filter( sf.col('Genre').contains(\"Comedy\") ). \\\n",
    "    groupBy(\"Movie_name\").agg(\n",
    "        sf.count(\"*\").alias(\"total_ratings\"),\n",
    "        sf.avg(\"Rating\").alias(\"avg_rating\"),\n",
    "        sf.sum(\"Rating\").alias(\"sum_rating\")\n",
    "    ). \\\n",
    "    filter( sf.col(\"avg_rating\") > 4). \\\n",
    "    orderBy(\"total_ratings\", ascending=False). \\\n",
    "    toPandas()\n",
    "\n",
    "df"
   ]
  }
 ],
 "metadata": {
  "kernelspec": {
   "display_name": ".venv",
   "language": "python",
   "name": "python3"
  },
  "language_info": {
   "codemirror_mode": {
    "name": "ipython",
    "version": 3
   },
   "file_extension": ".py",
   "mimetype": "text/x-python",
   "name": "python",
   "nbconvert_exporter": "python",
   "pygments_lexer": "ipython3",
   "version": "3.12.3"
  }
 },
 "nbformat": 4,
 "nbformat_minor": 5
}
